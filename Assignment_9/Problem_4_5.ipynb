{
  "nbformat": 4,
  "nbformat_minor": 0,
  "metadata": {
    "colab": {
      "provenance": []
    },
    "kernelspec": {
      "name": "python3",
      "display_name": "Python 3"
    },
    "language_info": {
      "name": "python"
    }
  },
  "cells": [
    {
      "cell_type": "code",
      "execution_count": null,
      "metadata": {
        "colab": {
          "base_uri": "https://localhost:8080/"
        },
        "id": "hFRtWeUhKr_b",
        "outputId": "3b472e6f-bd2c-4eec-fae2-7bf42392a784"
      },
      "outputs": [
        {
          "output_type": "stream",
          "name": "stdout",
          "text": [
            "Drive already mounted at /content/drive; to attempt to forcibly remount, call drive.mount(\"/content/drive\", force_remount=True).\n",
            "Drive already mounted at /content/drive; to attempt to forcibly remount, call drive.mount(\"/content/drive\", force_remount=True).\n"
          ]
        }
      ],
      "source": [
        "from google.colab import drive\n",
        "drive.mount('/content/drive')"
      ]
    },
    {
      "cell_type": "code",
      "source": [
        "# ====== Setup ======\n",
        "import os\n",
        "import numpy as np\n",
        "import pandas as pd\n",
        "import matplotlib.pyplot as plt\n",
        "import tensorflow as tf\n",
        "from tensorflow.keras import layers, models\n",
        "from tensorflow.keras.preprocessing.image import ImageDataGenerator\n",
        "\n",
        "# ====== Output directory on Google Drive ======\n",
        "OUTPUT_DIR = '/content/drive/MyDrive/Colab Notebooks/DL_2025/8/'\n",
        "FIGURE_DIR = os.path.join(OUTPUT_DIR, 'figures')\n",
        "RESULTS_DIR = os.path.join(OUTPUT_DIR, 'results')\n",
        "\n",
        "os.makedirs(FIGURE_DIR, exist_ok=True)\n",
        "os.makedirs(RESULTS_DIR, exist_ok=True)\n",
        "\n",
        "# ====== Load CIFAR-10 ======\n",
        "(x_train, y_train), (x_test, y_test) = tf.keras.datasets.cifar10.load_data()\n",
        "x_train, x_test = x_train / 255.0, x_test / 255.0\n",
        "y_train, y_test = y_train.flatten(), y_test.flatten()\n",
        "\n",
        "# ====== Define CNN model ======\n",
        "def build_cnn():\n",
        "    model = models.Sequential([\n",
        "        layers.Conv2D(32, (3, 3), activation='relu', input_shape=(32, 32, 3)),\n",
        "        layers.MaxPooling2D((2, 2)),\n",
        "        layers.Conv2D(64, (3, 3), activation='relu'),\n",
        "        layers.MaxPooling2D((2, 2)),\n",
        "        layers.Conv2D(64, (3, 3), activation='relu'),\n",
        "        layers.Flatten(),\n",
        "        layers.Dense(64, activation='relu'),\n",
        "        layers.Dense(10, activation='softmax')\n",
        "    ])\n",
        "    model.compile(optimizer='adam',\n",
        "                  loss='sparse_categorical_crossentropy',\n",
        "                  metrics=['accuracy'])\n",
        "    return model\n",
        "\n",
        "# ====== Helper function to plot ======\n",
        "def plot_history(history, title, save_name):\n",
        "    plt.figure(figsize=(10, 4))\n",
        "    plt.subplot(1, 2, 1)\n",
        "    plt.plot(history.history['accuracy'], label='Train')\n",
        "    plt.plot(history.history['val_accuracy'], label='Val')\n",
        "    plt.title(f'{title} - Accuracy')\n",
        "    plt.legend()\n",
        "\n",
        "    plt.subplot(1, 2, 2)\n",
        "    plt.plot(history.history['loss'], label='Train')\n",
        "    plt.plot(history.history['val_loss'], label='Val')\n",
        "    plt.title(f'{title} - Loss')\n",
        "    plt.legend()\n",
        "\n",
        "    plt.tight_layout()\n",
        "    plt.savefig(f\"{FIGURE_DIR}/{save_name}.png\")\n",
        "    plt.close()\n",
        "\n",
        "# ====== Train without augmentation ======\n",
        "model_plain = build_cnn()\n",
        "history_plain = model_plain.fit(x_train, y_train,\n",
        "                                epochs=10,\n",
        "                                validation_data=(x_test, y_test),\n",
        "                                batch_size=64,\n",
        "                                verbose=2)\n",
        "\n",
        "# Save plots and results\n",
        "plot_history(history_plain, \"No Augmentation\", \"no_augmentation\")\n",
        "df_plain = pd.DataFrame(history_plain.history)\n",
        "df_plain.to_csv(f\"{RESULTS_DIR}/no_augmentation_results.csv\", index=False)\n",
        "\n",
        "# ====== Data Augmentation ======\n",
        "datagen = ImageDataGenerator(\n",
        "    rotation_range=15,\n",
        "    width_shift_range=0.1,\n",
        "    height_shift_range=0.1,\n",
        "    horizontal_flip=True\n",
        ")\n",
        "datagen.fit(x_train)\n",
        "\n",
        "# ====== Show example augmented images ======\n",
        "print(\"Displaying augmented images:\")\n",
        "plt.figure(figsize=(10, 2))\n",
        "for i, (img, label) in enumerate(datagen.flow(x_train, y_train, batch_size=1)):\n",
        "    plt.subplot(1, 5, i + 1)\n",
        "    plt.imshow(img[0])\n",
        "    plt.axis('off')\n",
        "    if i == 4:\n",
        "        break\n",
        "plt.suptitle(\"Sample Augmented Images\")\n",
        "plt.tight_layout()\n",
        "plt.savefig(f\"{FIGURE_DIR}/augmented_samples.png\")\n",
        "plt.show()\n",
        "\n",
        "# ====== Train with augmentation ======\n",
        "model_aug = build_cnn()\n",
        "history_aug = model_aug.fit(datagen.flow(x_train, y_train, batch_size=64),\n",
        "                            epochs=10,\n",
        "                            validation_data=(x_test, y_test),\n",
        "                            steps_per_epoch=len(x_train) // 64,\n",
        "                            verbose=2)\n",
        "\n",
        "# Save plots and results\n",
        "plot_history(history_aug, \"With Augmentation\", \"with_augmentation\")\n",
        "df_aug = pd.DataFrame(history_aug.history)\n",
        "df_aug.to_csv(f\"{RESULTS_DIR}/with_augmentation_results.csv\", index=False)\n",
        "\n",
        "print(f\"Training completed. All results saved in: {OUTPUT_DIR}\")\n"
      ],
      "metadata": {
        "id": "Oy83rhO0Kuur",
        "colab": {
          "base_uri": "https://localhost:8080/",
          "height": 1000
        },
        "outputId": "6e52dac1-bb17-4696-baa1-8199fbdcfcd4"
      },
      "execution_count": null,
      "outputs": [
        {
          "output_type": "stream",
          "name": "stdout",
          "text": [
            "Epoch 1/10\n",
            "782/782 - 66s - 85ms/step - accuracy: 0.4158 - loss: 1.6016 - val_accuracy: 0.4866 - val_loss: 1.4006\n",
            "Epoch 2/10\n",
            "782/782 - 63s - 81ms/step - accuracy: 0.5589 - loss: 1.2467 - val_accuracy: 0.5991 - val_loss: 1.1395\n",
            "Epoch 3/10\n",
            "782/782 - 82s - 105ms/step - accuracy: 0.6171 - loss: 1.0907 - val_accuracy: 0.6161 - val_loss: 1.0775\n",
            "Epoch 4/10\n",
            "782/782 - 79s - 101ms/step - accuracy: 0.6530 - loss: 0.9888 - val_accuracy: 0.6474 - val_loss: 1.0115\n",
            "Epoch 5/10\n",
            "782/782 - 84s - 107ms/step - accuracy: 0.6797 - loss: 0.9129 - val_accuracy: 0.6782 - val_loss: 0.9183\n",
            "Epoch 6/10\n",
            "782/782 - 82s - 105ms/step - accuracy: 0.7022 - loss: 0.8528 - val_accuracy: 0.6894 - val_loss: 0.8967\n",
            "Epoch 7/10\n",
            "782/782 - 81s - 103ms/step - accuracy: 0.7190 - loss: 0.8016 - val_accuracy: 0.6768 - val_loss: 0.9673\n",
            "Epoch 8/10\n",
            "782/782 - 83s - 106ms/step - accuracy: 0.7340 - loss: 0.7641 - val_accuracy: 0.7014 - val_loss: 0.8641\n",
            "Epoch 9/10\n",
            "782/782 - 80s - 103ms/step - accuracy: 0.7477 - loss: 0.7228 - val_accuracy: 0.7086 - val_loss: 0.8410\n",
            "Epoch 10/10\n",
            "782/782 - 63s - 80ms/step - accuracy: 0.7581 - loss: 0.6932 - val_accuracy: 0.7063 - val_loss: 0.8669\n",
            "Displaying augmented images:\n"
          ]
        },
        {
          "output_type": "display_data",
          "data": {
            "text/plain": [
              "<Figure size 1000x200 with 5 Axes>"
            ],
            "image/png": "[encoded data removed]"
          },
          "metadata": {}
        },
        {
          "output_type": "stream",
          "name": "stdout",
          "text": [
            "Epoch 1/10\n"
          ]
        },
        {
          "output_type": "stream",
          "name": "stderr",
          "text": [
            "/usr/local/lib/python3.11/dist-packages/keras/src/trainers/data_adapters/py_dataset_adapter.py:121: UserWarning: Your `PyDataset` class should call `super().__init__(**kwargs)` in its constructor. `**kwargs` can include `workers`, `use_multiprocessing`, `max_queue_size`. Do not pass these arguments to `fit()`, as they will be ignored.\n",
            "  self._warn_if_super_not_called()\n"
          ]
        },
        {
          "output_type": "stream",
          "name": "stdout",
          "text": [
            "781/781 - 91s - 116ms/step - accuracy: 0.3940 - loss: 1.6616 - val_accuracy: 0.4715 - val_loss: 1.4671\n",
            "Epoch 2/10\n"
          ]
        },
        {
          "output_type": "stream",
          "name": "stderr",
          "text": [
            "/usr/local/lib/python3.11/dist-packages/keras/src/trainers/epoch_iterator.py:107: UserWarning: Your input ran out of data; interrupting training. Make sure that your dataset or generator can generate at least `steps_per_epoch * epochs` batches. You may need to use the `.repeat()` function when building your dataset.\n",
            "  self._interrupted_warning()\n"
          ]
        },
        {
          "output_type": "stream",
          "name": "stdout",
          "text": [
            "781/781 - 5s - 7ms/step - accuracy: 0.5000 - loss: 1.5027 - val_accuracy: 0.4703 - val_loss: 1.4704\n",
            "Epoch 3/10\n",
            "781/781 - 136s - 174ms/step - accuracy: 0.5081 - loss: 1.3698 - val_accuracy: 0.5837 - val_loss: 1.1692\n",
            "Epoch 4/10\n",
            "781/781 - 4s - 5ms/step - accuracy: 0.5156 - loss: 1.4351 - val_accuracy: 0.5812 - val_loss: 1.1744\n",
            "Epoch 5/10\n",
            "781/781 - 136s - 174ms/step - accuracy: 0.5600 - loss: 1.2337 - val_accuracy: 0.6160 - val_loss: 1.0891\n",
            "Epoch 6/10\n",
            "781/781 - 5s - 7ms/step - accuracy: 0.6562 - loss: 1.1130 - val_accuracy: 0.6106 - val_loss: 1.1044\n",
            "Epoch 7/10\n",
            "781/781 - 137s - 176ms/step - accuracy: 0.5863 - loss: 1.1589 - val_accuracy: 0.6029 - val_loss: 1.1475\n",
            "Epoch 8/10\n",
            "781/781 - 4s - 5ms/step - accuracy: 0.6875 - loss: 0.9677 - val_accuracy: 0.6126 - val_loss: 1.1219\n",
            "Epoch 9/10\n",
            "781/781 - 139s - 178ms/step - accuracy: 0.6080 - loss: 1.1007 - val_accuracy: 0.6463 - val_loss: 1.0222\n",
            "Epoch 10/10\n",
            "781/781 - 5s - 7ms/step - accuracy: 0.6094 - loss: 1.1773 - val_accuracy: 0.6366 - val_loss: 1.0403\n",
            "Training completed. All results saved in: /content/drive/MyDrive/Colab Notebooks/DL_2025/8/\n"
          ]
        }
      ]
    },
    {
      "cell_type": "code",
      "source": [],
      "metadata": {
        "id": "HwYN5DUXLg52"
      },
      "execution_count": null,
      "outputs": []
    },
    {
      "cell_type": "code",
      "source": [],
      "metadata": {
        "id": "zxlZ7FGHPvoN"
      },
      "execution_count": null,
      "outputs": []
    }
  ]
}