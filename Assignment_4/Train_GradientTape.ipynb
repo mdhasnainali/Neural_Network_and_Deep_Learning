{
 "cells": [
  {
   "cell_type": "markdown",
   "id": "4c3a5acd",
   "metadata": {},
   "source": [
    "### Compare  tf.GradientTape() vs Tensorflow's model.fit()"
   ]
  },
  {
   "cell_type": "code",
   "execution_count": 1,
   "id": "7bfc68a9",
   "metadata": {},
   "outputs": [],
   "source": [
    "import tensorflow as tf\n",
    "import numpy as np"
   ]
  },
  {
   "cell_type": "code",
   "execution_count": 4,
   "id": "28a973c4",
   "metadata": {},
   "outputs": [],
   "source": [
    "(x_train, y_train), (x_test, y_test) = tf.keras.datasets.mnist.load_data()\n",
    "\n",
    "x_train = x_train.astype('float32') / 255.0\n",
    "x_test  = x_test.astype('float32') / 255.0\n",
    "x_train = x_train.reshape(-1, 28 * 28)\n",
    "x_test  = x_test.reshape(-1, 28 * 28)\n",
    "\n",
    "y_train_cat = tf.keras.utils.to_categorical(y_train, 10)\n",
    "y_test_cat  = tf.keras.utils.to_categorical(y_test, 10)"
   ]
  },
  {
   "cell_type": "code",
   "execution_count": 5,
   "id": "d9eb3ba0",
   "metadata": {},
   "outputs": [],
   "source": [
    "def create_model():\n",
    "    return tf.keras.Sequential([\n",
    "        tf.keras.layers.Dense(128, activation='relu', input_shape=(784,)),\n",
    "        tf.keras.layers.Dense(64, activation='relu'),\n",
    "        tf.keras.layers.Dense(10)  # logits (softmax applied later)\n",
    "    ])"
   ]
  },
  {
   "cell_type": "code",
   "execution_count": 6,
   "id": "b11d13ab",
   "metadata": {},
   "outputs": [
    {
     "name": "stderr",
     "output_type": "stream",
     "text": [
      "/Users/mdhasnainali/Researcher/my-venv/ml_tf/lib/python3.12/site-packages/keras/src/layers/core/dense.py:87: UserWarning: Do not pass an `input_shape`/`input_dim` argument to a layer. When using Sequential models, prefer using an `Input(shape)` object as the first layer in the model instead.\n",
      "  super().__init__(activity_regularizer=activity_regularizer, **kwargs)\n",
      "2025-06-21 22:28:57.656362: I tensorflow/core/framework/local_rendezvous.cc:405] Local rendezvous is aborting with status: OUT_OF_RANGE: End of sequence\n"
     ]
    },
    {
     "name": "stdout",
     "output_type": "stream",
     "text": [
      "[GradientTape] Epoch 1, Loss: 0.2749\n"
     ]
    },
    {
     "name": "stderr",
     "output_type": "stream",
     "text": [
      "2025-06-21 22:29:11.718133: I tensorflow/core/framework/local_rendezvous.cc:405] Local rendezvous is aborting with status: OUT_OF_RANGE: End of sequence\n"
     ]
    },
    {
     "name": "stdout",
     "output_type": "stream",
     "text": [
      "[GradientTape] Epoch 2, Loss: 0.1173\n",
      "[GradientTape] Epoch 3, Loss: 0.0820\n"
     ]
    },
    {
     "name": "stderr",
     "output_type": "stream",
     "text": [
      "2025-06-21 22:29:39.881206: I tensorflow/core/framework/local_rendezvous.cc:405] Local rendezvous is aborting with status: OUT_OF_RANGE: End of sequence\n"
     ]
    },
    {
     "name": "stdout",
     "output_type": "stream",
     "text": [
      "[GradientTape] Epoch 4, Loss: 0.0590\n",
      "[GradientTape] Epoch 5, Loss: 0.0457\n"
     ]
    }
   ],
   "source": [
    "# Custom training with tf.GradientTape \n",
    "model_tape = create_model()\n",
    "loss_fn = tf.keras.losses.CategoricalCrossentropy(from_logits=True)\n",
    "optimizer = tf.keras.optimizers.Adam()\n",
    "batch_size = 64\n",
    "train_ds = tf.data.Dataset.from_tensor_slices((x_train, y_train_cat)).shuffle(1024).batch(batch_size)\n",
    "\n",
    "# Training loop\n",
    "epochs = 5\n",
    "for epoch in range(epochs):\n",
    "    epoch_loss = []\n",
    "    for x_batch, y_batch in train_ds:\n",
    "        with tf.GradientTape() as tape:\n",
    "            logits = model_tape(x_batch)\n",
    "            loss = loss_fn(y_batch, logits)\n",
    "        grads = tape.gradient(loss, model_tape.trainable_variables)\n",
    "        optimizer.apply_gradients(zip(grads, model_tape.trainable_variables))\n",
    "        epoch_loss.append(loss.numpy())\n",
    "\n",
    "    print(f\"[GradientTape] Epoch {epoch+1}, Loss: {np.mean(epoch_loss):.4f}\")"
   ]
  },
  {
   "cell_type": "code",
   "execution_count": 7,
   "id": "02210889",
   "metadata": {},
   "outputs": [
    {
     "name": "stdout",
     "output_type": "stream",
     "text": [
      "[GradientTape] Test Accuracy: 0.9757\n"
     ]
    }
   ],
   "source": [
    "# Evaluate\n",
    "logits = model_tape(x_test)\n",
    "accuracy = tf.keras.metrics.categorical_accuracy(y_test_cat, logits)\n",
    "print(f\"[GradientTape] Test Accuracy: {np.mean(accuracy):.4f}\")"
   ]
  },
  {
   "cell_type": "code",
   "execution_count": 8,
   "id": "dea3100f",
   "metadata": {},
   "outputs": [
    {
     "name": "stdout",
     "output_type": "stream",
     "text": [
      "Epoch 1/5\n",
      "\u001b[1m938/938\u001b[0m \u001b[32m━━━━━━━━━━━━━━━━━━━━\u001b[0m\u001b[37m\u001b[0m \u001b[1m2s\u001b[0m 1ms/step - accuracy: 0.8502 - loss: 0.5130\n",
      "Epoch 2/5\n",
      "\u001b[1m938/938\u001b[0m \u001b[32m━━━━━━━━━━━━━━━━━━━━\u001b[0m\u001b[37m\u001b[0m \u001b[1m1s\u001b[0m 1ms/step - accuracy: 0.9642 - loss: 0.1200\n",
      "Epoch 3/5\n",
      "\u001b[1m938/938\u001b[0m \u001b[32m━━━━━━━━━━━━━━━━━━━━\u001b[0m\u001b[37m\u001b[0m \u001b[1m1s\u001b[0m 1ms/step - accuracy: 0.9764 - loss: 0.0776\n",
      "Epoch 4/5\n",
      "\u001b[1m938/938\u001b[0m \u001b[32m━━━━━━━━━━━━━━━━━━━━\u001b[0m\u001b[37m\u001b[0m \u001b[1m3s\u001b[0m 3ms/step - accuracy: 0.9821 - loss: 0.0564\n",
      "Epoch 5/5\n",
      "\u001b[1m938/938\u001b[0m \u001b[32m━━━━━━━━━━━━━━━━━━━━\u001b[0m\u001b[37m\u001b[0m \u001b[1m2s\u001b[0m 2ms/step - accuracy: 0.9873 - loss: 0.0408\n",
      "[model.fit] Test Accuracy: 0.9787\n"
     ]
    }
   ],
   "source": [
    "# Using model.fit \n",
    "model_fit = create_model()\n",
    "model_fit.compile(optimizer='adam',\n",
    "                  loss=tf.keras.losses.CategoricalCrossentropy(from_logits=True),\n",
    "                  metrics=['accuracy'])\n",
    "\n",
    "model_fit.fit(x_train, y_train_cat, epochs=5, batch_size=64, verbose=1)\n",
    "loss, acc = model_fit.evaluate(x_test, y_test_cat, verbose=0)\n",
    "print(f\"[model.fit] Test Accuracy: {acc:.4f}\")\n"
   ]
  },
  {
   "cell_type": "code",
   "execution_count": null,
   "id": "5fa42c0a",
   "metadata": {},
   "outputs": [],
   "source": []
  }
 ],
 "metadata": {
  "kernelspec": {
   "display_name": "ml_tf",
   "language": "python",
   "name": "python3"
  },
  "language_info": {
   "codemirror_mode": {
    "name": "ipython",
    "version": 3
   },
   "file_extension": ".py",
   "mimetype": "text/x-python",
   "name": "python",
   "nbconvert_exporter": "python",
   "pygments_lexer": "ipython3",
   "version": "3.12.11"
  }
 },
 "nbformat": 4,
 "nbformat_minor": 5
}
